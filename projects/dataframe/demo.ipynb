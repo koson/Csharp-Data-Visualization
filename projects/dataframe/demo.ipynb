{
 "cells": [
  {
   "cell_type": "markdown",
   "metadata": {},
   "source": [
    "# Using DataFrames and Plots in a .NET Interactive Notebook\n",
    "\n",
    "For the full article see: https://swharden.com/blog/2022-05-01-dotnet-dataframe"
   ]
  },
  {
   "cell_type": "code",
   "execution_count": null,
   "metadata": {
    "dotnet_interactive": {
     "language": "csharp"
    },
    "vscode": {
     "languageId": "dotnet-interactive.csharp"
    }
   },
   "outputs": [
    {
     "data": {
      "text/html": [
       "<div><div></div><div></div><div><strong>Installed Packages</strong><ul><li><span>Microsoft.Data.Analysis, 0.19.1</span></li></ul></div></div>"
      ]
     },
     "metadata": {},
     "output_type": "display_data"
    }
   ],
   "source": [
    "#r \"nuget:Microsoft.Data.Analysis\"\n",
    "using Microsoft.Data.Analysis;"
   ]
  },
  {
   "cell_type": "code",
   "execution_count": null,
   "metadata": {
    "dotnet_interactive": {
     "language": "csharp"
    },
    "vscode": {
     "languageId": "dotnet-interactive.csharp"
    }
   },
   "outputs": [],
   "source": [
    "// load sample data\n",
    "string[] names = { \"Oliver\", \"Charlotte\", \"Henry\", \"Amelia\", \"Owen\" };\n",
    "int[] ages = { 23, 19, 42, 64, 35 };\n",
    "double[] heights = { 1.91, 1.62, 1.72, 1.57, 1.85 };\n",
    "\n",
    "DataFrameColumn[] columns = {\n",
    "    new StringDataFrameColumn(\"Name\", names),\n",
    "    new PrimitiveDataFrameColumn<int>(\"Age\", ages),\n",
    "    new PrimitiveDataFrameColumn<double>(\"Height\", heights),\n",
    "};\n",
    "\n",
    "DataFrame df = new(columns);"
   ]
  },
  {
   "cell_type": "code",
   "execution_count": null,
   "metadata": {
    "dotnet_interactive": {
     "language": "csharp"
    },
    "vscode": {
     "languageId": "dotnet-interactive.csharp"
    }
   },
   "outputs": [
    {
     "data": {
      "text/html": [
       "<table id=\"table_637870780232683108\"><thead><tr><th><i>index</i></th><th>Name</th><th>Age</th><th>Height</th></tr></thead><tbody><tr><td><i><div class=\"dni-plaintext\">0</div></i></td><td>Oliver</td><td><div class=\"dni-plaintext\">23</div></td><td><div class=\"dni-plaintext\">1.91</div></td></tr><tr><td><i><div class=\"dni-plaintext\">1</div></i></td><td>Charlotte</td><td><div class=\"dni-plaintext\">19</div></td><td><div class=\"dni-plaintext\">1.62</div></td></tr><tr><td><i><div class=\"dni-plaintext\">2</div></i></td><td>Henry</td><td><div class=\"dni-plaintext\">42</div></td><td><div class=\"dni-plaintext\">1.72</div></td></tr><tr><td><i><div class=\"dni-plaintext\">3</div></i></td><td>Amelia</td><td><div class=\"dni-plaintext\">64</div></td><td><div class=\"dni-plaintext\">1.57</div></td></tr><tr><td><i><div class=\"dni-plaintext\">4</div></i></td><td>Owen</td><td><div class=\"dni-plaintext\">35</div></td><td><div class=\"dni-plaintext\">1.85</div></td></tr></tbody></table>"
      ]
     },
     "metadata": {},
     "output_type": "display_data"
    }
   ],
   "source": [
    "// visualize the dataframe\n",
    "df"
   ]
  },
  {
   "cell_type": "code",
   "execution_count": null,
   "metadata": {
    "dotnet_interactive": {
     "language": "csharp"
    },
    "vscode": {
     "languageId": "dotnet-interactive.csharp"
    }
   },
   "outputs": [
    {
     "data": {
      "text/html": [
       "<div><div></div><div></div><div><strong>Installed Packages</strong><ul><li><span>ScottPlot, 4.1.42</span></li></ul></div></div>"
      ]
     },
     "metadata": {},
     "output_type": "display_data"
    }
   ],
   "source": [
    "// install ScottPlot and register its display type\n",
    "#r \"nuget:ScottPlot\"\n",
    "using Microsoft.DotNet.Interactive.Formatting;\n",
    "Formatter.Register(typeof(ScottPlot.Plot), (plt, writer) => \n",
    "    writer.Write(((ScottPlot.Plot)plt).GetImageHTML()), HtmlFormatter.MimeType);"
   ]
  },
  {
   "cell_type": "code",
   "execution_count": null,
   "metadata": {
    "dotnet_interactive": {
     "language": "csharp"
    },
    "vscode": {
     "languageId": "dotnet-interactive.csharp"
    }
   },
   "outputs": [
    {
     "data": {
      "text/html": [
       "<img src=\"data:image/png;base64,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\"></img>"
      ]
     },
     "metadata": {},
     "output_type": "display_data"
    }
   ],
   "source": [
    "// get data as double arrays\n",
    "double[] ages = Enumerable.Range(0, (int)df.Rows.Count).Select(x => Convert.ToDouble(df[\"Age\"][x])).ToArray();\n",
    "double[] heights = Enumerable.Range(0, (int)df.Rows.Count).Select(x => Convert.ToDouble(df[\"Height\"][x])).ToArray();\n",
    "\n",
    "// create and display a plot\n",
    "var plt = new ScottPlot.Plot(400, 300);\n",
    "plt.AddScatter(ages, heights);\n",
    "plt.XLabel(\"Age\");\n",
    "plt.YLabel(\"Height\");\n",
    "plt"
   ]
  }
 ],
 "metadata": {
  "kernelspec": {
   "display_name": ".NET (C#)",
   "language": "C#",
   "name": ".net-csharp"
  },
  "language_info": {
   "file_extension": ".cs",
   "mimetype": "text/x-csharp",
   "name": "C#",
   "pygments_lexer": "csharp",
   "version": "9.0"
  },
  "orig_nbformat": 4
 },
 "nbformat": 4,
 "nbformat_minor": 2
}
